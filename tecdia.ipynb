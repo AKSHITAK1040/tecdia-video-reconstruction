{
 "cells": [
  {
   "cell_type": "code",
   "execution_count": 13,
   "id": "4a758533",
   "metadata": {},
   "outputs": [
    {
     "name": "stdout",
     "output_type": "stream",
     "text": [
      "🎞️ Extracting frames from 'jumbled_video.mp4'...\n",
      "✅ Extracted 0 frames at 30 FPS\n",
      "⏱️ Done in 0.39s\n"
     ]
    }
   ],
   "source": [
    "import cv2\n",
    "import os\n",
    "import time\n",
    "\n",
    "def extract_frames(video_path, output_dir=\"frames\"):\n",
    "    os.makedirs(output_dir, exist_ok=True)\n",
    "    cap = cv2.VideoCapture(video_path)\n",
    "    count = 0\n",
    "    fps = int(cap.get(cv2.CAP_PROP_FPS) or 30)\n",
    "    print(f\"🎞️ Extracting frames from '{video_path}'...\")\n",
    "    while True:\n",
    "        ret, frame = cap.read()\n",
    "        if not ret: break\n",
    "        cv2.imwrite(f\"{output_dir}/frame_{count:06d}.jpg\", frame)\n",
    "        count += 1\n",
    "    cap.release()\n",
    "    print(f\"✅ Extracted {count} frames at {fps} FPS\")\n",
    "    return count, fps\n",
    "\n",
    "if __name__ == \"__main__\":\n",
    "    start = time.time()\n",
    "    total, fps = extract_frames(\"jumbled_video.mp4\")\n",
    "    print(f\"⏱️ Done in {time.time()-start:.2f}s\")\n"
   ]
  }
 ],
 "metadata": {
  "kernelspec": {
   "display_name": "base",
   "language": "python",
   "name": "python3"
  },
  "language_info": {
   "codemirror_mode": {
    "name": "ipython",
    "version": 3
   },
   "file_extension": ".py",
   "mimetype": "text/x-python",
   "name": "python",
   "nbconvert_exporter": "python",
   "pygments_lexer": "ipython3",
   "version": "3.10.13"
  }
 },
 "nbformat": 4,
 "nbformat_minor": 5
}
