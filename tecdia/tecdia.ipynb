{
 "cells": [
  {
   "cell_type": "code",
   "execution_count": 1,
   "id": "4a758533",
   "metadata": {},
   "outputs": [
    {
     "name": "stdout",
     "output_type": "stream",
     "text": [
      "🎞️ Extracting frames from 'jumbled_video.mp4'...\n",
      "✅ Extracted 0 frames at 30 FPS\n",
      "⏱️ Done in 0.09s\n"
     ]
    }
   ],
   "source": [
    "import cv2\n",
    "import os\n",
    "import time\n",
    "\n",
    "def extract_frames(video_path, output_dir=\"frames\"):\n",
    "    os.makedirs(output_dir, exist_ok=True)\n",
    "    cap = cv2.VideoCapture(video_path)\n",
    "    count = 0\n",
    "    fps = int(cap.get(cv2.CAP_PROP_FPS) or 30)\n",
    "    print(f\"🎞️ Extracting frames from '{video_path}'...\")\n",
    "    while True:\n",
    "        ret, frame = cap.read()\n",
    "        if not ret: break\n",
    "        cv2.imwrite(f\"{output_dir}/frame_{count:06d}.jpg\", frame)\n",
    "        count += 1\n",
    "    cap.release()\n",
    "    print(f\"✅ Extracted {count} frames at {fps} FPS\")\n",
    "    return count, fps\n",
    "\n",
    "if __name__ == \"__main__\":\n",
    "    start = time.time()\n",
    "    total, fps = extract_frames(\"jumbled_video.mp4\")\n",
    "    print(f\"⏱️ Done in {time.time()-start:.2f}s\")"
   ]
  },
  {
   "cell_type": "code",
   "execution_count": 4,
   "id": "71bce88a",
   "metadata": {},
   "outputs": [
    {
     "name": "stdout",
     "output_type": "stream",
     "text": [
      "⚙️ Using CPU (no GPU found)\n",
      "🔍 Test SSIM Value: 0.0162\n"
     ]
    }
   ],
   "source": [
    "# =====================================\n",
    "# DAY 2: GPU Detection + SSIM Kernel\n",
    "# =====================================\n",
    "import torch\n",
    "import torch.nn.functional as F\n",
    "\n",
    "# --------------------------\n",
    "# 🧠 1. Detect and Set Device\n",
    "# --------------------------\n",
    "if torch.cuda.is_available():\n",
    "    device = torch.device(\"cuda\")\n",
    "    print(\"🚀 Using GPU:\", torch.cuda.get_device_name(0))\n",
    "else:\n",
    "    device = torch.device(\"cpu\")\n",
    "    print(\"⚙️ Using CPU (no GPU found)\")\n",
    "\n",
    "# -----------------------------------------\n",
    "# 🧩 2. Create Gaussian Kernel for SSIM\n",
    "# -----------------------------------------\n",
    "def gaussian_kernel(size=11, sigma=1.5, channels=3):\n",
    "    \"\"\"Creates a 2D Gaussian kernel expanded across channels.\"\"\"\n",
    "    coords = torch.arange(size, dtype=torch.float32) - size // 2\n",
    "    grid = coords ** 2\n",
    "    kernel_1d = torch.exp(-grid / (2 * sigma ** 2))\n",
    "    kernel_1d /= kernel_1d.sum()\n",
    "    kernel_2d = kernel_1d[:, None] @ kernel_1d[None, :]\n",
    "    kernel_2d = kernel_2d.expand(channels, 1, size, size).to(device)\n",
    "    return kernel_2d\n",
    "\n",
    "# -----------------------------------------\n",
    "# 🧮 3. SSIM Function (basic building block)\n",
    "# -----------------------------------------\n",
    "def ssim_torch(img1, img2, kernel, C1=0.01**2, C2=0.03**2):\n",
    "    \"\"\"Compute SSIM between two images using Gaussian kernel (Torch).\"\"\"\n",
    "    mu1 = F.conv2d(img1, kernel, padding=kernel.shape[-1] // 2, groups=img1.shape[1])\n",
    "    mu2 = F.conv2d(img2, kernel, padding=kernel.shape[-1] // 2, groups=img2.shape[1])\n",
    "\n",
    "    mu1_sq = mu1 ** 2\n",
    "    mu2_sq = mu2 ** 2\n",
    "    mu1_mu2 = mu1 * mu2\n",
    "\n",
    "    sigma1_sq = F.conv2d(img1 * img1, kernel, padding=kernel.shape[-1] // 2, groups=img1.shape[1]) - mu1_sq\n",
    "    sigma2_sq = F.conv2d(img2 * img2, kernel, padding=kernel.shape[-1] // 2, groups=img2.shape[1]) - mu2_sq\n",
    "    sigma12 = F.conv2d(img1 * img2, kernel, padding=kernel.shape[-1] // 2, groups=img1.shape[1]) - mu1_mu2\n",
    "\n",
    "    ssim_map = ((2 * mu1_mu2 + C1) * (2 * sigma12 + C2)) / (\n",
    "        (mu1_sq + mu2_sq + C1) * (sigma1_sq + sigma2_sq + C2)\n",
    "    )\n",
    "    return ssim_map.mean()\n",
    "\n",
    "# -----------------------------------------\n",
    "# ✅ 4. Example Test (optional)\n",
    "# -----------------------------------------\n",
    "if __name__ == \"__main__\":\n",
    "    # Create two dummy images (360x640 RGB)\n",
    "    img1 = torch.rand(1, 3, 360, 640).to(device)\n",
    "    img2 = torch.rand(1, 3, 360, 640).to(device)\n",
    "    kernel = gaussian_kernel()\n",
    "    val = ssim_torch(img1, img2, kernel)\n",
    "    print(f\"🔍 Test SSIM Value: {val.item():.4f}\")\n"
   ]
  }
 ],
 "metadata": {
  "kernelspec": {
   "display_name": "base",
   "language": "python",
   "name": "python3"
  },
  "language_info": {
   "codemirror_mode": {
    "name": "ipython",
    "version": 3
   },
   "file_extension": ".py",
   "mimetype": "text/x-python",
   "name": "python",
   "nbconvert_exporter": "python",
   "pygments_lexer": "ipython3",
   "version": "3.10.13"
  }
 },
 "nbformat": 4,
 "nbformat_minor": 5
}
