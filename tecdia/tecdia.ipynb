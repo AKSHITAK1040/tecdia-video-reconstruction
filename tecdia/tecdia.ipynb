{
 "cells": [
  {
   "cell_type": "code",
   "execution_count": 3,
   "id": "4a758533",
   "metadata": {},
   "outputs": [
    {
     "name": "stdout",
     "output_type": "stream",
     "text": [
      "🚀 Using device: cpu\n"
     ]
    }
   ],
   "source": [
    "import torch\n",
    "import torch.nn.functional as F\n",
    "\n",
    "# Detect device\n",
    "device = torch.device (\"cpu\")\n",
    "print(f\"🚀 Using device: {device}\")\n",
    "\n",
    "# Gaussian Kernel\n",
    "def gaussian_kernel(size, sigma, channels):\n",
    "    coords = torch.arange(size).float() - size / 2 + 0.5\n",
    "    gauss = torch.exp(-(coords**2)/(2*sigma**2))\n",
    "    gauss /= gauss.sum()\n",
    "    kernel_1d = gauss.unsqueeze(1)\n",
    "    kernel_2d = torch.matmul(kernel_1d, kernel_1d.t()).unsqueeze(0).unsqueeze(0)\n",
    "    return kernel_2d.expand(channels,1,size,size).contiguous()\n",
    "\n",
    "SSIM_KERNEL = gaussian_kernel(11, 1.5, 3)\n",
    "\n",
    "# SSIM Function\n",
    "def ssim_torch(img1, img2, kernel=SSIM_KERNEL):\n",
    "    kernel = kernel.to(img1.device)\n",
    "    C1, C2 = 0.01**2, 0.03**2\n",
    "    def conv(img): return F.conv2d(img, kernel, groups=3, padding=5)\n",
    "    mu1, mu2 = conv(img1), conv(img2)\n",
    "    mu1_sq, mu2_sq, mu1_mu2 = mu1**2, mu2**2, mu1*mu2\n",
    "    sigma1_sq = conv(img1*img1) - mu1_sq\n",
    "    sigma2_sq = conv(img2*img2) - mu2_sq\n",
    "    sigma12 = conv(img1*img2) - mu1_mu2\n",
    "    numerator = (2*mu1_mu2 + C1)*(2*sigma12 + C2)\n",
    "    denominator = (mu1_sq + mu2_sq + C1)*(sigma1_sq + sigma2_sq + C2)\n",
    "    return (numerator/denominator).mean().item()\n"
   ]
  }
 ],
 "metadata": {
  "kernelspec": {
   "display_name": "base",
   "language": "python",
   "name": "python3"
  },
  "language_info": {
   "codemirror_mode": {
    "name": "ipython",
    "version": 3
   },
   "file_extension": ".py",
   "mimetype": "text/x-python",
   "name": "python",
   "nbconvert_exporter": "python",
   "pygments_lexer": "ipython3",
   "version": "3.10.13"
  }
 },
 "nbformat": 4,
 "nbformat_minor": 5
}
